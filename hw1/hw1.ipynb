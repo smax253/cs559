{
 "cells": [
  {
   "cell_type": "code",
   "execution_count": 8,
   "id": "baded383",
   "metadata": {
    "scrolled": true
   },
   "outputs": [
    {
     "name": "stdout",
     "output_type": "stream",
     "text": [
      "       X1     X2     X3      X4   X5  X6   X7  X8     Y2\n",
      "0    0.98  514.5  294.0  110.25  7.0   2  0.0   0  21.33\n",
      "1    0.98  514.5  294.0  110.25  7.0   3  0.0   0  21.33\n",
      "2    0.98  514.5  294.0  110.25  7.0   4  0.0   0  21.33\n",
      "3    0.98  514.5  294.0  110.25  7.0   5  0.0   0  21.33\n",
      "4    0.90  563.5  318.5  122.50  7.0   2  0.0   0  28.28\n",
      "..    ...    ...    ...     ...  ...  ..  ...  ..    ...\n",
      "763  0.64  784.0  343.0  220.50  3.5   5  0.4   5  21.40\n",
      "764  0.62  808.5  367.5  220.50  3.5   2  0.4   5  16.88\n",
      "765  0.62  808.5  367.5  220.50  3.5   3  0.4   5  17.11\n",
      "766  0.62  808.5  367.5  220.50  3.5   4  0.4   5  16.61\n",
      "767  0.62  808.5  367.5  220.50  3.5   5  0.4   5  16.03\n",
      "\n",
      "[768 rows x 9 columns]\n"
     ]
    }
   ],
   "source": [
    "#Max Shi CS 559 HW 1 Problem 5\n",
    "\n",
    "import pandas as pd\n",
    "df = pd.read_excel(\"ENB2012_data.xlsx\", 0)\n",
    "print(df)"
   ]
  },
  {
   "cell_type": "code",
   "execution_count": 9,
   "id": "0e4e05df",
   "metadata": {
    "scrolled": true
   },
   "outputs": [],
   "source": [
    "from sklearn import linear_model"
   ]
  },
  {
   "cell_type": "code",
   "execution_count": 10,
   "id": "d5855528",
   "metadata": {},
   "outputs": [],
   "source": [
    "features = df[df.columns[0:8]].values\n",
    "result = df[df.columns[-1]].values\n"
   ]
  },
  {
   "cell_type": "code",
   "execution_count": 11,
   "id": "68381f95",
   "metadata": {},
   "outputs": [
    {
     "name": "stdout",
     "output_type": "stream",
     "text": [
      "[-0.          0.01259381  0.02982036 -0.          5.16871044  0.04151042\n",
      "  8.91526652  0.10520176]\n"
     ]
    }
   ],
   "source": [
    "clf = linear_model.Lasso(alpha=0.1)\n",
    "clf.fit(features, result)\n",
    "print(clf.coef_)\n"
   ]
  },
  {
   "cell_type": "code",
   "execution_count": 12,
   "id": "aad25f78",
   "metadata": {
    "scrolled": true
   },
   "outputs": [
    {
     "name": "stdout",
     "output_type": "stream",
     "text": [
      "[-1.00031000e+01  1.01945613e-02  2.01912798e-02 -4.99835887e-03\n",
      "  5.53880152e+00  1.21447163e-01  1.41718290e+01  5.06574211e-02]\n"
     ]
    }
   ],
   "source": [
    "reg = linear_model.Ridge(alpha=0.5)\n",
    "reg.fit(features, result)\n",
    "print(reg.coef_)"
   ]
  },
  {
   "cell_type": "code",
   "execution_count": 13,
   "id": "dcaacaa8",
   "metadata": {},
   "outputs": [
    {
     "name": "stdout",
     "output_type": "stream",
     "text": [
      "[-0.         -0.04426558  0.08612412 -0.01621481  1.7237392   0.\n",
      "  0.01666456  0.18616842]\n"
     ]
    }
   ],
   "source": [
    "net = linear_model.ElasticNet(alpha=0.5)\n",
    "net.fit(features, result)\n",
    "print(net.coef_)"
   ]
  },
  {
   "cell_type": "code",
   "execution_count": 14,
   "id": "a3c94b2c",
   "metadata": {},
   "outputs": [],
   "source": [
    "#method to create a model with the given model_name from the given data\n",
    "def train(features, values, model_name):\n",
    "    model = None\n",
    "    if(model_name == \"Lasso\"):\n",
    "        model = linear_model.Lasso(alpha=0.1)\n",
    "    elif(model_name == \"Ridge\"):\n",
    "        model = linear_model.Ridge(alpha=0.1)\n",
    "    else:\n",
    "        model = linear_model.ElasticNet(alpha=0.1)\n",
    "    model.fit(features,values)\n",
    "    return model\n"
   ]
  },
  {
   "cell_type": "code",
   "execution_count": 15,
   "id": "d6cb3edb",
   "metadata": {},
   "outputs": [],
   "source": [
    "#calculate the validation error from the model, the test data, and the loss function\n",
    "def validation_error(model, test_features, test_values, loss_func):\n",
    "    predictions = model.predict(test_features)\n",
    "    error = 0\n",
    "    for model_prediction, test in zip(predictions, test_values):\n",
    "        error += loss_func(model_prediction, test)\n",
    "    return error / len(predictions)"
   ]
  },
  {
   "cell_type": "code",
   "execution_count": 16,
   "id": "8b25b499",
   "metadata": {},
   "outputs": [],
   "source": [
    "#MSE Loss function\n",
    "def MSE_loss(prediction, test):\n",
    "    return pow(prediction-test, 2)"
   ]
  },
  {
   "cell_type": "code",
   "execution_count": 24,
   "id": "9c856500",
   "metadata": {
    "scrolled": true
   },
   "outputs": [],
   "source": [
    "#function to do x-fold cross validation with a given model name and features and values data\n",
    "def cross_validation(folds, model, features, values):\n",
    "    feature_cuts = []\n",
    "    values_cuts = []\n",
    "    interval = (len(features) // folds)+1\n",
    "    for x in range(folds):\n",
    "        feature_cuts.append(features[x*interval:(x+1)*interval])\n",
    "        values_cuts.append(values[x*interval:(x+1)*interval])\n",
    "    errors = []\n",
    "    for x in range(folds):\n",
    "        training_features = []\n",
    "        training_values = []\n",
    "        for y in range(folds):\n",
    "            if x != y:\n",
    "                #print(feature_cuts[y])\n",
    "                training_features.extend(feature_cuts[y])\n",
    "                training_values.extend(values_cuts[y])\n",
    "        #print(len(training_features), len(training_values))\n",
    "        trained_model = train(training_features, training_values, model)\n",
    "        #print(trained_model)\n",
    "        errors.append(validation_error(trained_model, feature_cuts[x], values_cuts[x], MSE_loss))\n",
    "    print(r\"model %s\" % model, errors)\n",
    "    return sum(errors)/len(errors)\n"
   ]
  },
  {
   "cell_type": "code",
   "execution_count": 26,
   "id": "443ffa4f",
   "metadata": {},
   "outputs": [
    {
     "name": "stdout",
     "output_type": "stream",
     "text": [
      "model and average MSE error\n",
      "model Lasso [22.749548468453607, 12.748086474949778, 10.333382321636469, 13.36013496908495, 10.36050038188607]\n",
      "model Ridge [12.853088671889545, 12.031837023054782, 9.961008783459354, 10.348433956734526, 10.35542816063348]\n",
      "model ElasticNet [29.36383974550231, 17.040449290138064, 10.721510707794405, 17.395113877288228, 13.713624107934328]\n"
     ]
    },
    {
     "data": {
      "text/plain": [
       "[('Lasso', 13.910330523202173),\n",
       " ('Ridge', 11.109959319154338),\n",
       " ('ElasticNet', 17.646907545731466)]"
      ]
     },
     "execution_count": 26,
     "metadata": {},
     "output_type": "execute_result"
    }
   ],
   "source": [
    "#do the cross validations.\n",
    "model_names = [\"Lasso\", \"Ridge\", \"ElasticNet\"]\n",
    "print(\"model and average MSE error\")\n",
    "list(map(lambda model_name: (model_name, cross_validation(5, model_name, features,result)), model_names))\n"
   ]
  },
  {
   "cell_type": "code",
   "execution_count": null,
   "id": "8b21f16f",
   "metadata": {},
   "outputs": [],
   "source": [
    "#Based on the MSE error seen in the cross validation between the models, we conclude that the Ridge model\n",
    "#seems to be more effective to predict cooling load when alpha values are equal across all models."
   ]
  }
 ],
 "metadata": {
  "kernelspec": {
   "display_name": "Python 3 (ipykernel)",
   "language": "python",
   "name": "python3"
  },
  "language_info": {
   "codemirror_mode": {
    "name": "ipython",
    "version": 3
   },
   "file_extension": ".py",
   "mimetype": "text/x-python",
   "name": "python",
   "nbconvert_exporter": "python",
   "pygments_lexer": "ipython3",
   "version": "3.10.0"
  }
 },
 "nbformat": 4,
 "nbformat_minor": 5
}

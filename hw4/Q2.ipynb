{
 "cells": [
  {
   "cell_type": "code",
   "execution_count": 1,
   "id": "1cd4b3ba",
   "metadata": {},
   "outputs": [],
   "source": [
    "#Max Shi CS559 Homework 4 Q2\n",
    "import math\n",
    "import numpy as np"
   ]
  },
  {
   "cell_type": "code",
   "execution_count": 2,
   "id": "ba1b092f",
   "metadata": {},
   "outputs": [],
   "source": [
    "def Gaussian(X, mu, sigma):\n",
    "    D = X.shape[1]\n",
    "    sigdet = np.linalg.det(sigma)\n",
    "    sigma_inv = np.linalg.inv(sigma)\n",
    "    result = np.zeros(X.shape[0])\n",
    "    for i in range(X.shape[0]):\n",
    "        X_mu = X[i] - mu\n",
    "        X_mu_T = X_mu.T\n",
    "        RHS = np.exp(-0.5 * (X_mu_T @ sigma_inv @ X_mu))\n",
    "        LHS = 1 / (2 * math.pi) ** (D / 2) / math.sqrt(sigdet)\n",
    "        result[i] = LHS * RHS\n",
    "    return result"
   ]
  },
  {
   "cell_type": "code",
   "execution_count": 3,
   "id": "44dfaedb",
   "metadata": {},
   "outputs": [],
   "source": [
    "def Expectation(X, k, pi, mu, sigma):\n",
    "    n = X.shape[0]\n",
    "    weights = np.zeros((n, k))\n",
    "    for k_ind in range(k):\n",
    "        weights[:, k_ind] = pi[k_ind] * Gaussian(X, mu[k_ind, :], sigma[k_ind, :, :])\n",
    "    weights = weights / np.sum(weights, axis=1, keepdims=True)\n",
    "    return weights\n"
   ]
  },
  {
   "cell_type": "code",
   "execution_count": 4,
   "id": "3275ec32",
   "metadata": {},
   "outputs": [],
   "source": [
    "def MaximizeMean(X, k, r):\n",
    "    n = X.shape[0]\n",
    "    D = X.shape[1]\n",
    "    mu = np.zeros((k, D))\n",
    "    for k_ind in range(k):\n",
    "        mu[k_ind, :] = np.sum(np.transpose([r[:, k_ind]])* X, axis=0) / np.sum(r[:, k_ind])\n",
    "    return mu\n"
   ]
  },
  {
   "cell_type": "code",
   "execution_count": 5,
   "id": "910f441f",
   "metadata": {},
   "outputs": [],
   "source": [
    "def MaximizeCovariance(X, k, r, mu):\n",
    "    n = X.shape[0]\n",
    "    D = X.shape[1]\n",
    "    sigma = np.zeros((D, D, k))\n",
    "    for k_ind in range(k):\n",
    "        for n_ind in range(n):\n",
    "            X_mu = np.array([X[n_ind] - mu[k_ind, :]])\n",
    "            sigma[k_ind, :, :] += r[n_ind, k_ind] * X_mu.T @ X_mu\n",
    "        sigma[k_ind, :, :] /= np.sum(r[:, k_ind])\n",
    "    return sigma"
   ]
  },
  {
   "cell_type": "code",
   "execution_count": 6,
   "id": "ca9ccca6",
   "metadata": {},
   "outputs": [],
   "source": [
    "def MaximizeMixtures(k,r):\n",
    "    pi = np.sum(r, axis=0) / np.sum(r)\n",
    "    return pi"
   ]
  },
  {
   "cell_type": "code",
   "execution_count": 7,
   "id": "9b058d88",
   "metadata": {},
   "outputs": [],
   "source": [
    "def LogLikelihood(X, pi, mu, sigma):\n",
    "    n = X.shape[0]\n",
    "    k = pi.shape[0]\n",
    "    result = 0\n",
    "    for i in range(n):\n",
    "        for k_ind in range(k):\n",
    "            currentX = np.array([X[i]])\n",
    "            result += math.log(pi[k_ind] * Gaussian(currentX, mu[k_ind, :], sigma[k_ind, :, :]))\n",
    "    return result"
   ]
  },
  {
   "cell_type": "code",
   "execution_count": 8,
   "id": "a8fc3908",
   "metadata": {},
   "outputs": [],
   "source": [
    "def EM(X, K, pi0, mu0, sigma0, niter):\n",
    "    n = X.shape[0]\n",
    "    D = X.shape[1]\n",
    "    k = K\n",
    "    pi = pi0\n",
    "    mu = mu0\n",
    "    sigma = sigma0\n",
    "    r = np.zeros((n, k, k))\n",
    "    for i in range(niter):\n",
    "        r = Expectation(X, k, pi, mu, sigma)\n",
    "        pi = MaximizeMixtures(k, r)\n",
    "        mu = MaximizeMean(X, k, r)\n",
    "        sigma = MaximizeCovariance(X, k, r, mu)\n",
    "        print('pi', pi)\n",
    "        print(\"log likelihood of iteration %d: %d \" % (i, LogLikelihood(X, pi, mu, sigma)))\n",
    "    return pi, mu, sigma, r"
   ]
  },
  {
   "cell_type": "code",
   "execution_count": 9,
   "id": "14bdb5cf",
   "metadata": {},
   "outputs": [
    {
     "name": "stdout",
     "output_type": "stream",
     "text": [
      "pi [0.67689083 0.32310917]\n",
      "log likelihood of iteration 0: -13228 \n",
      "pi [0.6635645 0.3364355]\n",
      "log likelihood of iteration 1: -14116 \n",
      "pi [0.65490605 0.34509395]\n",
      "log likelihood of iteration 2: -14928 \n",
      "pi [0.65020678 0.34979322]\n",
      "log likelihood of iteration 3: -15544 \n",
      "pi [0.64990584 0.35009416]\n",
      "log likelihood of iteration 4: -16037 \n",
      "pi [0.65181676 0.34818324]\n",
      "log likelihood of iteration 5: -16902 \n",
      "pi [0.65100978 0.34899022]\n",
      "log likelihood of iteration 6: -18100 \n",
      "pi [0.64994428 0.35005572]\n",
      "log likelihood of iteration 7: -18649 \n",
      "pi [0.64973909 0.35026091]\n",
      "log likelihood of iteration 8: -18799 \n",
      "pi [0.6495026 0.3504974]\n",
      "log likelihood of iteration 9: -18824 \n",
      "pi [0.64908873 0.35091127]\n",
      "log likelihood of iteration 10: -18815 \n",
      "pi [0.64858222 0.35141778]\n",
      "log likelihood of iteration 11: -18798 \n",
      "[0.64858222 0.35141778] [[-1.17924435 -1.91154464]\n",
      " [-0.15819271  1.87127671]] [[[11.20894086 -1.72347679]\n",
      "  [-1.72347679  4.04269871]]\n",
      "\n",
      " [[ 1.18767561  0.3755709 ]\n",
      "  [ 0.3755709   1.01652594]]] [[9.99999110e-01 8.89608074e-07]\n",
      " [5.15205485e-02 9.48479451e-01]\n",
      " [9.99999591e-01 4.09418549e-07]\n",
      " ...\n",
      " [9.99999994e-01 6.12456232e-09]\n",
      " [1.92294437e-02 9.80770556e-01]\n",
      " [9.99993458e-01 6.54183790e-06]]\n"
     ]
    }
   ],
   "source": [
    "file = np.genfromtxt(\"points.dat.txt\")\n",
    "X = file\n",
    "pi0 = np.array([0.5, 0.5])\n",
    "mu0 = np.array([[0, 0], [1, 1]])\n",
    "sigma0 = np.array([[[1, 0.5], [0.5, 1]], [[1, 0.5], [0.5, 1]]])\n",
    "niter = 12\n",
    "\n",
    "pi, mu, sigma, r = EM(X, 2, pi0, mu0, sigma0, niter)\n",
    "print(pi, mu, sigma, r)"
   ]
  },
  {
   "cell_type": "code",
   "execution_count": null,
   "id": "f443e328",
   "metadata": {},
   "outputs": [],
   "source": []
  }
 ],
 "metadata": {
  "kernelspec": {
   "display_name": "Python 3 (ipykernel)",
   "language": "python",
   "name": "python3"
  },
  "language_info": {
   "codemirror_mode": {
    "name": "ipython",
    "version": 3
   },
   "file_extension": ".py",
   "mimetype": "text/x-python",
   "name": "python",
   "nbconvert_exporter": "python",
   "pygments_lexer": "ipython3",
   "version": "3.10.1"
  }
 },
 "nbformat": 4,
 "nbformat_minor": 5
}
